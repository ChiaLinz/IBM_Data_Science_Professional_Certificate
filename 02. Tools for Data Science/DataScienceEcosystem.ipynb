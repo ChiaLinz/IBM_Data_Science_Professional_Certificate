{
 "cells": [
  {
   "cell_type": "markdown",
   "id": "69a8ecb1",
   "metadata": {},
   "source": [
    "## Objective\n",
    "In this final assignment, you will:\n",
    "\n",
    "* Create a Jupyter Notebook\n",
    "\n",
    "* Insert code and markdown cells\n",
    "\n",
    "* Share your notebook through GitHub\n",
    "\n",
    "## Instructions\n",
    "Note - Screenshots\n",
    "Throughout this lab, you will be prompted to take screenshots and save them on your device. You will need these screenshots to upload them as your submission for peer review at the end of this course. You can use various free screengrabbing tools or your operating system's shortcut keys to do this (for example, Alt+PrintScreen in Windows and Shift+Command+3 for Mac).\n",
    "\n",
    "<strong>Exercise 1: Create a Jupyter Notebook</strong>\n",
    "\n",
    "Create a new Jupyter notebook called DataScienceEcosystem.ipynb\n",
    "\n",
    "Note: The next item in the course will launch JupyterLite with an empty notebook with this name that you can use to complete rest of the Exercises. You can also use any other Jupyter notebook environment (e.g. Anaconda) that you prefer to complete the assignment.\n",
    "\n",
    "\n",
    "<strong>Exercise 2: Create markdown cell with title of the notebook</strong>\n",
    "\n",
    "Create a markdown cell with the title Data Science Tools and Ecosystem using H1 style heading.\n",
    "Take a screenshot of the markdown cell and name it as 2-title.png (Images can be saved with either the .jpg or .png extension.)\n",
    "\n",
    "\n",
    "<strong>Exercise 3 - Create a markdown cell for an introduction</strong>\n",
    "\n",
    "Write an introductory sentence about the notebook such as the follows:\n",
    "\n",
    "In this notebook, Data Science Tools and Ecosystem are summarized.\n",
    "Take a screenshot of the markdown cell and name it as 3-intro.png (Images can be saved with either the .jpg or .png extension.)\n",
    "\n",
    "\n",
    "<strong>Exercise 4 - Create a markdown cell to list data science languages</strong>\n",
    "\n",
    "Start the cell with an overview line such as:\n",
    "\n",
    "Some of the popular languages that Data Scientists use are:\n",
    "Then create an ordered list (i.e. numbered) listing 3 (or more) commonly used languages for data science.\n",
    "Take a screenshot of the markdown cell and name it as 4-dslanguages.png (Images can be saved with either the .jpg or .png extension.)\n",
    "\n",
    "\n",
    "<strong>Exercise 5 - Create a markdown cell to list data science libraries</strong>\n",
    "\n",
    "Add an overview line to the cell like:\n",
    "\n",
    "Some of the commonly used libraries used by Data Scientists include:\n",
    "Below this line add an ordered list listing 3 (or more) commonly used libraries in data science.\n",
    "Take a screenshot of the markdown cell and name it as 5-dslibraries.png (Images can be saved with either the .jpg or .png extension.)\n",
    "\n",
    "\n",
    "<strong>Exercise 6 - Create a markdown cell with a table of Data Science tools</strong>\n",
    "\n",
    "Create a single column table in this cell with the first row containing the header Data Science Tools. The subsequent three rows in the table should indicate three development environment open source tools used in data science.\n",
    "\n",
    "Take a screenshot of the markdown cell and name it as 6-dstools.png (Images can be saved with either the .jpg or .png extension.)\n",
    "Hint: Refer to Lab: Using Markdowns in Jupyter Notebooks to create a table.\n",
    "\n",
    "\n",
    "<strong>Exercise 7 - Create a markdown cell introducing arithmetic expression examples</strong>\n",
    "\n",
    "Add a line in this cell with H3 style heading with text like:\n",
    "\n",
    "Below are a few examples of evaluating arithmetic expressions in Python.\n",
    "Take a screenshot of the markdown cell and name it as 7-introarithmetic.png (Images can be saved with either the .jpg or .png extension.)\n",
    "\n",
    "\n",
    "<strong>Exercise 8 - Create a code cell to multiply and add numbers</strong>\n",
    "\n",
    "In this code cell evaluate the expression (3*4)+5.\n",
    "Insert a comment line before the expression to explain the operation e.g.  This a simple arithmetic expression to mutiply then add integers.\n",
    "Then execute the cell to ensure the expression returns the expected output of 17.\n",
    "Take a screenshot of the code cell with output and name it as 8-multiplyandaddintegers.png (Images can be saved with either the .jpg or .png extension.)\n",
    "\n",
    "\n",
    "<strong>Exercise 9 - Create a code cell to convert minutes to hours</strong>\n",
    "\n",
    "In this code cell write an expression that converts 200 minutes into hours.\n",
    "Insert a comment line before the expression to explain the operation e.g.  This will convert 200 minutes to hours by diving by 60.\n",
    "Run the cell to evaluate the expression.\n",
    "Take a screenshot of the code cell with output and name it as 9-hourstominutes.png (Images can be saved with either the .jpg or .png extension.)\n",
    "\n",
    "\n",
    "<strong>Exercise 10 - Insert a markdown cell to list Objectives</strong>\n",
    "\n",
    "Below the introduction cell created in Exercise 3, insert a new markdown cell to list the objectives that this notebook covered (i.e. some of the key takeaways from the course). In this new cell start with an introductory line titled: Objectives: in bold font. Then using an unordered list (bullets) indicate 3 to 5 items covered in this notebook, such as List popular languages for Data Science.\n",
    "Take a screenshot of the markdown cell and name it as 10-objectives.png (Images can be saved with either the .jpg or .png extension.)\n",
    "\n",
    "\n",
    "<strong>Exercise 11 - Create a markdown cell to indicate the Author's name</strong>\n",
    "\n",
    "In this markdown cell markdown cell include the following text Author in H2 style heading. Include your name as regular text below the word Author.\n",
    "Take a screenshot of the markdown cell and name it as 11-authordetails.png (Images can be saved with either the .jpg or .png extension.)\n",
    "\n",
    "Note: Save and download the notebook.\n",
    "\n",
    "\n",
    "<strong>Exercise 12 - Share your notebook through GitHub</strong>\n",
    "\n",
    "Upload your notebook to a public respository on GitHub.\n",
    "\n",
    "Note : Please keep the GitHub repo link of the notebook handy.\n",
    "You will need to submit this link as a part of the assignment evaluation.\n",
    "\n",
    "Hint: Refer to Lab: Working with files in Jupyter Notebooks to download the notebook from SN Labs.\n",
    "\n",
    "<strong>Exercise 13 -Take a screenshot of the first page of the notebook and save it as 1-notebook.png(Images can be saved with either the .jpg or .png extension.)</strong>\n",
    "\n",
    "Refer to Hands-on Lab: Getting Started with GitHub to upload the downloaded notebook to GitHub.\n",
    "\n",
    "Congratulations on completing this project. In a subsequent item in the course you will submit a link to your notebook on GitHub and evaluate your peers."
   ]
  },
  {
   "cell_type": "markdown",
   "id": "0da249d1",
   "metadata": {},
   "source": [
    "# Data Science Tools and Ecosystem"
   ]
  },
  {
   "cell_type": "markdown",
   "id": "6945f4b2",
   "metadata": {},
   "source": [
    "In this notebook, Data Science Tools and Ecosystem are summarized."
   ]
  },
  {
   "cell_type": "markdown",
   "id": "d6c27e42",
   "metadata": {},
   "source": [
    "<strong>Objectives</strong>\n",
    "* List of popular languages for Data Science\n",
    "* List of Commonly used by Data Scientists\n",
    "* Python Code Example"
   ]
  },
  {
   "cell_type": "markdown",
   "id": "8b2f0e5f",
   "metadata": {},
   "source": [
    "Some of the popular languages that Data Scientists use are:\n",
    "\n",
    "1. Python\n",
    "2. SQL\n",
    "3. JavaScript\n",
    "4. R\n",
    "5. SAS"
   ]
  },
  {
   "cell_type": "markdown",
   "id": "ed6f4de1",
   "metadata": {},
   "source": [
    "Some of the commonly used libraries used by Data Scientists include:\n",
    "\n",
    "1. Pandas\n",
    "2. Scikit-Learn\n",
    "3. Numpy\n",
    "4. TensorFlow\n",
    "5. Kears"
   ]
  },
  {
   "cell_type": "markdown",
   "id": "cf46b6ff",
   "metadata": {},
   "source": [
    "### Data Science Tools"
   ]
  },
  {
   "cell_type": "code",
   "execution_count": 2,
   "id": "31c72213",
   "metadata": {},
   "outputs": [
    {
     "data": {
      "text/plain": [
       "['GitHub', 'Jupyter Notebooks', 'RStudio IDE']"
      ]
     },
     "execution_count": 2,
     "metadata": {},
     "output_type": "execute_result"
    }
   ],
   "source": [
    "DST = [\"GitHub\", \"Jupyter Notebooks\", \"RStudio IDE\"]\n",
    "DST"
   ]
  },
  {
   "cell_type": "markdown",
   "id": "0323d992",
   "metadata": {},
   "source": [
    "### Below are a few examples of evaluating arithmetic expressions in Python"
   ]
  },
  {
   "cell_type": "markdown",
   "id": "5f0605c7",
   "metadata": {},
   "source": [
    "This a simple arithmetic expression to mutiply then add integers"
   ]
  },
  {
   "cell_type": "code",
   "execution_count": 3,
   "id": "d48c67e3",
   "metadata": {},
   "outputs": [
    {
     "data": {
      "text/plain": [
       "17"
      ]
     },
     "execution_count": 3,
     "metadata": {},
     "output_type": "execute_result"
    }
   ],
   "source": [
    "A = (3*4)+5\n",
    "A"
   ]
  },
  {
   "cell_type": "markdown",
   "id": "722e4c0e",
   "metadata": {},
   "source": [
    "This will convert 200 minutes to hours by diving by 60"
   ]
  },
  {
   "cell_type": "code",
   "execution_count": 7,
   "id": "760c859e",
   "metadata": {},
   "outputs": [
    {
     "name": "stdout",
     "output_type": "stream",
     "text": [
      "3:20:00\n"
     ]
    }
   ],
   "source": [
    "import datetime\n",
    " \n",
    "def convert(n):\n",
    "    return str(datetime.timedelta(minutes = n))\n",
    "     \n",
    "# Driver program\n",
    "n = 200\n",
    "print(convert(n))"
   ]
  },
  {
   "cell_type": "markdown",
   "id": "907e4ce5",
   "metadata": {},
   "source": [
    "## Author\n",
    "Chia-Lin Hsieh"
   ]
  }
 ],
 "metadata": {
  "kernelspec": {
   "display_name": "Python 3 (ipykernel)",
   "language": "python",
   "name": "python3"
  },
  "language_info": {
   "codemirror_mode": {
    "name": "ipython",
    "version": 3
   },
   "file_extension": ".py",
   "mimetype": "text/x-python",
   "name": "python",
   "nbconvert_exporter": "python",
   "pygments_lexer": "ipython3",
   "version": "3.9.7"
  }
 },
 "nbformat": 4,
 "nbformat_minor": 5
}
